{
 "cells": [
  {
   "cell_type": "code",
   "execution_count": null,
   "metadata": {},
   "outputs": [],
   "source": [
    "\n"
   ]
  },
  {
   "cell_type": "code",
   "execution_count": null,
   "metadata": {},
   "outputs": [],
   "source": [
    "\n"
   ]
  },
  {
   "cell_type": "code",
   "execution_count": 5,
   "metadata": {},
   "outputs": [],
   "source": [
    "def get_house_info(url, price):\n",
    "    output = []\n",
    "    #url = 'https://www.airbnb.com/rooms/3503946?s=P8Cyps_7'\n",
    "    import requests\n",
    "    from bs4 import BeautifulSoup\n",
    "    import re\n",
    "    response = requests.get(url)\n",
    "\n",
    "    if not response.status_code == 200:\n",
    "        print('failed to get the fidelity website')\n",
    "        return output\n",
    "    else:\n",
    "        results_page = BeautifulSoup(response.content,'html5lib')\n",
    "        # rating\n",
    "        rating_sec = results_page.find_all('div', class_=\"_l0ao8q\")[0]\n",
    "        rating = rating_sec.find('span').get('aria-label')\n",
    "        # coordinates\n",
    "        coordinates = re.search(\n",
    "            '\"listing_lat\":([0-9]{2}.[0-9]*),\"listing_lng\":(-[0-9]{2}.[0-9]*),', \n",
    "            response.text)\n",
    "        \n",
    "        lat = coordinates.group(1)\n",
    "        lon = coordinates.group(2)\n",
    "        # host\n",
    "        superhost = re.search('\"is_superhost\":(.{1,5})', \n",
    "                              response.text).group(1)\n",
    "        host = results_page.find_all('span', class_=\"_fgdupie\")\n",
    "        #response rate\n",
    "        response_rate = float('nan')\n",
    "        for host_ in host[::-1]:\n",
    "            if 'Response rate' in host_.text:\n",
    "                response_rate = host_.text.split(':')[-1]\n",
    "                break\n",
    "        \n",
    "        \n",
    "        \n",
    "        \n",
    "        #accomondates\n",
    "        accommodates = results_page.find_all('span',class_=\"_fgdupie\")[0].text\n",
    "\n",
    "        # number of bedrooms\n",
    "        bedrooms = results_page.find_all('span',class_=\"_fgdupie\")[1].text\n",
    "        \n",
    "        #number of beds\n",
    "        beds = results_page.find_all('span',class_=\"_fgdupie\")[2].text\n",
    "        \n",
    "        #number of bathrooms\n",
    "        bathrooms = results_page.find_all('span',class_=\"_fgdupie\")[3].text\n",
    "        \n",
    "        \n",
    "        #room type\n",
    "        room_type = results_page.find('span',class_=\"_1hh2h7tb\").text\n",
    "        #number of review\n",
    "        number_of_reviews = results_page.find('div', class_=\"_vy3ibx\").text\n",
    "        \n",
    "        \n",
    "        \n",
    "        output.append([price, accommodates, bedrooms,beds, bathrooms, room_type, number_of_reviews,  rating, lat, lon, superhost, response_rate])\n",
    "        \n",
    "        \n",
    "    return output\n",
    "\n"
   ]
  },
  {
   "cell_type": "code",
   "execution_count": 6,
   "metadata": {},
   "outputs": [
    {
     "data": {
      "text/plain": [
       "[['2 guests',\n",
       "  'Studio',\n",
       "  '1 bed',\n",
       "  '1 bath',\n",
       "  'Entire apartment',\n",
       "  '246 Reviews',\n",
       "  'Rating 4.5 out of 5',\n",
       "  '40.75752444102327',\n",
       "  '-73.99425405806588',\n",
       "  'false',\n",
       "  ' 65%']]"
      ]
     },
     "execution_count": 6,
     "metadata": {},
     "output_type": "execute_result"
    }
   ],
   "source": [
    "get_house_info()"
   ]
  },
  {
   "cell_type": "code",
   "execution_count": 16,
   "metadata": {},
   "outputs": [],
   "source": [
    "def add_to_dataframe ():\n",
    "    import pandas as pd\n",
    "    import numpy as np\n",
    "    datalist = get_house_info()\n",
    "    df = pd.DataFrame(datalist,columns=['accommodates', 'bedrooms','beds', 'bathrooms', 'room_type', 'number_of_reviews',  'rating', 'lat', 'lon', 'superhost', 'response_rate'])\n",
    "    print (df)"
   ]
  },
  {
   "cell_type": "code",
   "execution_count": 17,
   "metadata": {},
   "outputs": [
    {
     "name": "stdout",
     "output_type": "stream",
     "text": [
      "  accommodates bedrooms beds bathrooms         room_type number_of_reviews  \\\n",
      "0                                       Entire apartment       246 Reviews   \n",
      "\n",
      "                rating                lat                 lon superhost  \\\n",
      "0  Rating 4.5 out of 5  40.75752444102327  -73.99425405806588     false   \n",
      "\n",
      "   response_rate  \n",
      "0            NaN  \n"
     ]
    }
   ],
   "source": [
    "add_to_dataframe()"
   ]
  },
  {
   "cell_type": "code",
   "execution_count": null,
   "metadata": {},
   "outputs": [],
   "source": []
  }
 ],
 "metadata": {
  "kernelspec": {
   "display_name": "Python 3",
   "language": "python",
   "name": "python3"
  },
  "language_info": {
   "codemirror_mode": {
    "name": "ipython",
    "version": 3
   },
   "file_extension": ".py",
   "mimetype": "text/x-python",
   "name": "python",
   "nbconvert_exporter": "python",
   "pygments_lexer": "ipython3",
   "version": "3.6.5"
  }
 },
 "nbformat": 4,
 "nbformat_minor": 2
}
