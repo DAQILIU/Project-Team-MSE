{
 "cells": [
  {
   "cell_type": "code",
   "execution_count": null,
   "metadata": {},
   "outputs": [],
   "source": [
    "import requests\n",
    "from bs4 import BeautifulSoup\n",
    "import urllib.request\n",
    "\n",
    "with urllib.request.urlopen('https://www.airbnb.com/rooms/3503946?s=P8Cyps_7') as response:\n",
    "    webpage = response.read()\n",
    "    results_page = BeautifulSoup(webpage, 'html.parser')\n",
    "\n",
    "# url = \"https://www.airbnb.com/rooms/3503946?s=P8Cyps_7\"\n",
    "# response = requests.get(url)\n",
    "# results_page = BeautifulSoup(response.content, 'html.parser')\n",
    "#results_page.prettify()\n",
    "print (results_page)\n"
   ]
  },
  {
   "cell_type": "code",
   "execution_count": null,
   "metadata": {},
   "outputs": [],
   "source": [
    "accommodates = results_page.find_all('div',class_=\"_1thk0tsb\")[4].text\n",
    "# #print (results_page.find_all('div',class_=\"_1thk0tsb\"))\n",
    "# # for x in results_page.find_all('div',class_=\"_1thk0tsb\"):\n",
    "# #     print (x.text)\n",
    "print (accommodates)\n",
    "\n",
    "\n",
    "bedrooms = results_page.find_all('div',class_=\"_1thk0tsb\")[5].text\n",
    "print (bedrooms)\n",
    "\n",
    "beds = results_page.find_all('div',class_=\"_1thk0tsb\")[6].text\n",
    "print (beds)\n",
    "\n",
    "bathrooms = results_page.find_all('div',class_=\"_1thk0tsb\")[7].text\n",
    "print (bathrooms)\n",
    "\n",
    "room_type = results_page.find('span',class_=\"_1hh2h7tb\").text\n",
    "print (room_type)\n",
    "\n",
    "# # filename = \"airbnb_listing.csv\"\n",
    "# # f = open(filename,\"w\")\n",
    "# # headers = \"accommodates, bedrooms, beds, bathrooms, room_type \\n\"\n",
    "# # f.write (headers)\n",
    "# # f.write (accommodates + \",\" + bedrooms + \",\" + beds + \",\" + bathrooms + \",\" +  room_type + '\\n')\n",
    "\n",
    "# # cancellation_policy = results_page.find_all('div',class_=\"_1nhodd4u\")\n",
    "# # for x in cancellation_policy:\n",
    "# #     print (x.text)\n",
    "\n",
    "\n",
    "number_of_reviews = results_page.find('div', class_=\"_vy3ibx\")\n",
    "\n",
    "print (number_of_reviews.text)\n",
    "\n",
    "\n",
    "\n",
    "\n"
   ]
  },
  {
   "cell_type": "code",
   "execution_count": null,
   "metadata": {},
   "outputs": [],
   "source": []
  },
  {
   "cell_type": "code",
   "execution_count": null,
   "metadata": {},
   "outputs": [],
   "source": []
  }
 ],
 "metadata": {
  "kernelspec": {
   "display_name": "Python 3",
   "language": "python",
   "name": "python3"
  },
  "language_info": {
   "codemirror_mode": {
    "name": "ipython",
    "version": 3
   },
   "file_extension": ".py",
   "mimetype": "text/x-python",
   "name": "python",
   "nbconvert_exporter": "python",
   "pygments_lexer": "ipython3",
   "version": "3.6.3"
  }
 },
 "nbformat": 4,
 "nbformat_minor": 2
}
