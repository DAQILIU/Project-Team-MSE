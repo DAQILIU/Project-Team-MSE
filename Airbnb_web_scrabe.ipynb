{
 "cells": [
  {
   "cell_type": "code",
   "execution_count": 21,
   "metadata": {},
   "outputs": [],
   "source": [
    "def get_house_info():\n",
    "    output = []\n",
    "    url = 'https://www.airbnb.com/rooms/3503946?s=P8Cyps_7'\n",
    "    import requests\n",
    "    from bs4 import BeautifulSoup\n",
    "    import re\n",
    "    response = requests.get(url)\n",
    "\n",
    "    if not response.status_code == 200:\n",
    "        print('failed to get the fidelity website')\n",
    "        return output\n",
    "    else:\n",
    "        results_page = BeautifulSoup(response.content,'lxml')\n",
    "        # rating\n",
    "        rating_sec = results_page.find_all('div', class_=\"_l0ao8q\")[0]\n",
    "        rating = rating_sec.find('span').get('aria-label')\n",
    "        # coordinates\n",
    "        coordinates = re.search(\n",
    "            '\"listing_lat\":([0-9]{2}.[0-9]*),\"listing_lng\":(-[0-9]{2}.[0-9]*),', \n",
    "            response.text)\n",
    "        lat = coordinates.group(1)\n",
    "        lon = coordinates.group(2)\n",
    "        # host\n",
    "        superhost = re.search('\"is_superhost\":(.{1,5})', \n",
    "                              response.text).group(1)\n",
    "        host = results_page.find_all('span', class_=\"_fgdupie\")\n",
    "        response_rate = float('nan')\n",
    "        for host_ in host[::-1]:\n",
    "            if 'Response rate' in host_.text:\n",
    "                response_rate = host_.text.split(':')[-1]\n",
    "                break\n",
    "                \n",
    "        output.append([rating, lat, lon, superhost, response_rate])\n",
    "    return output\n"
   ]
  }
 ],
 "metadata": {
  "kernelspec": {
   "display_name": "Python 3",
   "language": "python",
   "name": "python3"
  },
  "language_info": {
   "codemirror_mode": {
    "name": "ipython",
    "version": 3
   },
   "file_extension": ".py",
   "mimetype": "text/x-python",
   "name": "python",
   "nbconvert_exporter": "python",
   "pygments_lexer": "ipython3",
   "version": "3.6.3"
  }
 },
 "nbformat": 4,
 "nbformat_minor": 2
}
